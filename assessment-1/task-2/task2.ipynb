{
 "cells": [
  {
   "cell_type": "code",
   "execution_count": 1,
   "metadata": {},
   "outputs": [
    {
     "name": "stdout",
     "output_type": "stream",
     "text": [
      "Collecting gym==0.25.1\n",
      "  Downloading gym-0.25.1.tar.gz (732 kB)\n",
      "\u001b[2K     \u001b[90m━━━━━━━━━━━━━━━━━━━━━━━━━━━━━━━━━━━━━━\u001b[0m \u001b[32m732.2/732.2 kB\u001b[0m \u001b[31m10.1 MB/s\u001b[0m eta \u001b[36m0:00:00\u001b[0m00:01\u001b[0m00:01\u001b[0m\n",
      "\u001b[?25h  Installing build dependencies ... \u001b[?25ldone\n",
      "\u001b[?25h  Getting requirements to build wheel ... \u001b[?25ldone\n",
      "\u001b[?25h  Preparing metadata (pyproject.toml) ... \u001b[?25ldone\n",
      "\u001b[?25hRequirement already satisfied: numpy>=1.18.0 in /home/liyouzhou/.local/lib/python3.10/site-packages (from gym==0.25.1) (1.26.1)\n",
      "Requirement already satisfied: cloudpickle>=1.2.0 in /home/liyouzhou/.local/lib/python3.10/site-packages (from gym==0.25.1) (3.0.0)\n",
      "Requirement already satisfied: gym-notices>=0.0.4 in /home/liyouzhou/.local/lib/python3.10/site-packages (from gym==0.25.1) (0.0.8)\n",
      "Building wheels for collected packages: gym\n",
      "  Building wheel for gym (pyproject.toml) ... \u001b[?25ldone\n",
      "\u001b[?25h  Created wheel for gym: filename=gym-0.25.1-py3-none-any.whl size=849015 sha256=9f45532cbd314383969b07308ba8ca2d5bec5d9d914e306ac011940cd5bac094\n",
      "  Stored in directory: /home/liyouzhou/.cache/pip/wheels/2e/3b/df/78994c45c86a980cd5d8404c6d38cd28b871d5120e45c32ce4\n",
      "Successfully built gym\n",
      "Installing collected packages: gym\n",
      "  Attempting uninstall: gym\n",
      "    Found existing installation: gym 0.26.2\n",
      "    Uninstalling gym-0.26.2:\n",
      "      Successfully uninstalled gym-0.26.2\n",
      "Successfully installed gym-0.25.1\n",
      "Note: you may need to restart the kernel to use updated packages.\n",
      "Requirement already satisfied: gym-super-mario-bros in /home/liyouzhou/.local/lib/python3.10/site-packages (7.4.0)\n",
      "Requirement already satisfied: nes-py>=8.1.4 in /home/liyouzhou/.local/lib/python3.10/site-packages (from gym-super-mario-bros) (8.2.1)\n",
      "Requirement already satisfied: gym>=0.17.2 in /home/liyouzhou/anaconda3/envs/aml_task2/lib/python3.10/site-packages (from nes-py>=8.1.4->gym-super-mario-bros) (0.25.1)\n",
      "Requirement already satisfied: numpy>=1.18.5 in /home/liyouzhou/.local/lib/python3.10/site-packages (from nes-py>=8.1.4->gym-super-mario-bros) (1.26.1)\n",
      "Requirement already satisfied: pyglet<=1.5.21,>=1.4.0 in /home/liyouzhou/.local/lib/python3.10/site-packages (from nes-py>=8.1.4->gym-super-mario-bros) (1.5.21)\n",
      "Requirement already satisfied: tqdm>=4.48.2 in /home/liyouzhou/.local/lib/python3.10/site-packages (from nes-py>=8.1.4->gym-super-mario-bros) (4.66.1)\n",
      "Requirement already satisfied: cloudpickle>=1.2.0 in /home/liyouzhou/.local/lib/python3.10/site-packages (from gym>=0.17.2->nes-py>=8.1.4->gym-super-mario-bros) (3.0.0)\n",
      "Requirement already satisfied: gym-notices>=0.0.4 in /home/liyouzhou/.local/lib/python3.10/site-packages (from gym>=0.17.2->nes-py>=8.1.4->gym-super-mario-bros) (0.0.8)\n",
      "Note: you may need to restart the kernel to use updated packages.\n"
     ]
    }
   ],
   "source": [
    "%pip install gym==0.25.1\n",
    "%pip install gym-super-mario-bros"
   ]
  },
  {
   "cell_type": "code",
   "execution_count": 13,
   "metadata": {},
   "outputs": [
    {
     "name": "stderr",
     "output_type": "stream",
     "text": [
      "/home/liyouzhou/anaconda3/envs/aml_task2/lib/python3.10/site-packages/gym/envs/registration.py:593: UserWarning: \u001b[33mWARN: The environment SuperMarioBros-v0 is out of date. You should consider upgrading to version `v3`.\u001b[0m\n",
      "  logger.warn(\n",
      "/home/liyouzhou/anaconda3/envs/aml_task2/lib/python3.10/site-packages/gym/core.py:329: DeprecationWarning: \u001b[33mWARN: Initializing wrapper in old step API which returns one bool instead of two. It is recommended to set `new_step_api=True` to use new step API. This will be the default behaviour in future.\u001b[0m\n",
      "  deprecation(\n",
      "/home/liyouzhou/anaconda3/envs/aml_task2/lib/python3.10/site-packages/gym/wrappers/step_api_compatibility.py:39: DeprecationWarning: \u001b[33mWARN: Initializing environment in old step API which returns one bool instead of two. It is recommended to set `new_step_api=True` to use new step API. This will be the default behaviour in future.\u001b[0m\n",
      "  deprecation(\n",
      "/home/liyouzhou/anaconda3/envs/aml_task2/lib/python3.10/site-packages/gym/utils/passive_env_checker.py:227: DeprecationWarning: \u001b[33mWARN: Core environment is written in old step API which returns one bool instead of two. It is recommended to rewrite the environment with new step API. \u001b[0m\n",
      "  logger.deprecation(\n",
      "/home/liyouzhou/anaconda3/envs/aml_task2/lib/python3.10/site-packages/gym/utils/passive_env_checker.py:233: DeprecationWarning: `np.bool8` is a deprecated alias for `np.bool_`.  (Deprecated NumPy 1.24)\n",
      "  if not isinstance(done, (bool, np.bool8)):\n",
      "/home/liyouzhou/anaconda3/envs/aml_task2/lib/python3.10/site-packages/gym/core.py:51: DeprecationWarning: \u001b[33mWARN: The argument mode in render method is deprecated; use render_mode during environment initialization instead.\n",
      "See here for more information: https://www.gymlibrary.ml/content/api/\u001b[0m\n",
      "  deprecation(\n",
      "/home/liyouzhou/anaconda3/envs/aml_task2/lib/python3.10/site-packages/gym/utils/passive_env_checker.py:280: UserWarning: \u001b[33mWARN: No render modes was declared in the environment (env.metadata['render_modes'] is None or not defined), you may have trouble when calling `.render()`.\u001b[0m\n",
      "  logger.warn(\n"
     ]
    }
   ],
   "source": [
    "from nes_py.wrappers import JoypadSpace\n",
    "import gym_super_mario_bros\n",
    "from gym_super_mario_bros.actions import SIMPLE_MOVEMENT\n",
    "import gym\n",
    "import cv2\n",
    "\n",
    "env = gym_super_mario_bros.make('SuperMarioBros-v0')\n",
    "env = JoypadSpace(env, SIMPLE_MOVEMENT)\n",
    "\n",
    "done = True\n",
    "for step in range(500):\n",
    "    if done:\n",
    "        state = env.reset()\n",
    "    state, reward, done, info = env.step(env.action_space.sample())\n",
    "\n",
    "    img = env.render( mode='rgb_array')\n",
    "    img = cv2.cvtColor(img, cv2.COLOR_RGB2BGR)\n",
    "    cv2.imwrite(f\"training/{step}.png\", img)\n",
    "\n",
    "env.close()"
   ]
  },
  {
   "cell_type": "code",
   "execution_count": null,
   "metadata": {},
   "outputs": [],
   "source": []
  }
 ],
 "metadata": {
  "kernelspec": {
   "display_name": "aml_task2",
   "language": "python",
   "name": "aml_task2"
  },
  "language_info": {
   "codemirror_mode": {
    "name": "ipython",
    "version": 3
   },
   "file_extension": ".py",
   "mimetype": "text/x-python",
   "name": "python",
   "nbconvert_exporter": "python",
   "pygments_lexer": "ipython3",
   "version": "3.10.13"
  }
 },
 "nbformat": 4,
 "nbformat_minor": 2
}
