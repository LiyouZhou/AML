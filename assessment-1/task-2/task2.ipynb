{
 "cells": [
  {
   "cell_type": "code",
   "execution_count": 1,
   "metadata": {},
   "outputs": [],
   "source": [
    "# %pip install gym==0.21.0\n",
    "# %pip install gym-super-mario-bros==7.3.0\n",
    "# %pip install stable-baselines3==1.7.0\n"
   ]
  },
  {
   "cell_type": "code",
   "execution_count": 2,
   "metadata": {},
   "outputs": [
    {
     "name": "stderr",
     "output_type": "stream",
     "text": [
      "/home/liyouzhou/anaconda3/envs/aml_task2/lib/python3.10/site-packages/gym_super_mario_bros/smb_env.py:148: RuntimeWarning: overflow encountered in scalar subtract\n",
      "  return (self.ram[0x86] - self.ram[0x071c]) % 256\n"
     ]
    }
   ],
   "source": [
    "from nes_py.wrappers import JoypadSpace\n",
    "import gym_super_mario_bros\n",
    "from gym_super_mario_bros.actions import SIMPLE_MOVEMENT\n",
    "import gym\n",
    "import cv2\n",
    "\n",
    "env = gym_super_mario_bros.make('SuperMarioBros-v0')\n",
    "env = JoypadSpace(env, SIMPLE_MOVEMENT)\n",
    "\n",
    "done = True\n",
    "for step in range(500):\n",
    "    if done:\n",
    "        state = env.reset()\n",
    "    state, reward, done, info = env.step(env.action_space.sample())\n",
    "\n",
    "    img = env.render( mode='rgb_array')\n",
    "    img = cv2.cvtColor(img, cv2.COLOR_RGB2BGR)\n",
    "    cv2.imwrite(f\"training/{step}.png\", img)\n",
    "\n",
    "env.close()"
   ]
  },
  {
   "cell_type": "code",
   "execution_count": 3,
   "metadata": {},
   "outputs": [],
   "source": [
    "import sys\n",
    "import gym\n",
    "import pickle\n",
    "import random\n",
    "from typing import Callable\n",
    "from stable_baselines3 import DQN, A2C, PPO\n",
    "from stable_baselines3.common.evaluation import evaluate_policy\n",
    "\n",
    "import gym_super_mario_bros\n",
    "from nes_py.wrappers import JoypadSpace\n",
    "from gym_super_mario_bros.actions import SIMPLE_MOVEMENT, COMPLEX_MOVEMENT, RIGHT_ONLY\n",
    "from stable_baselines3.common import atari_wrappers\n"
   ]
  },
  {
   "cell_type": "code",
   "execution_count": 4,
   "metadata": {},
   "outputs": [],
   "source": [
    "\n",
    "environmentID = \"SuperMarioBros2-v1\"\n",
    "trainMode = True # if sys.argv[1] == \"train\" else False\n",
    "learningAlg = \"DQN\"\n",
    "seed = random.randint(0, 1000) if trainMode else int(sys.argv[3])\n",
    "policyFileName = learningAlg + \"-\" + environmentID + \"-seed\" + str(seed) + \".policy.pkl\"\n",
    "num_training_steps = 500000\n",
    "num_test_episodes = 10\n",
    "learning_rate = 0.00083\n",
    "gamma = 0.995\n",
    "policy_rendering = True"
   ]
  },
  {
   "cell_type": "code",
   "execution_count": 6,
   "metadata": {},
   "outputs": [
    {
     "name": "stdout",
     "output_type": "stream",
     "text": [
      "Loading policy...\n"
     ]
    },
    {
     "ename": "AttributeError",
     "evalue": "Can't get attribute 'MarioNet' on <module '__main__'>",
     "output_type": "error",
     "traceback": [
      "\u001b[0;31m---------------------------------------------------------------------------\u001b[0m",
      "\u001b[0;31mAttributeError\u001b[0m                            Traceback (most recent call last)",
      "Cell \u001b[0;32mIn[6], line 11\u001b[0m\n\u001b[1;32m      9\u001b[0m episode \u001b[38;5;241m=\u001b[39m \u001b[38;5;241m1\u001b[39m\n\u001b[1;32m     10\u001b[0m model_dir \u001b[38;5;241m=\u001b[39m Path(\u001b[38;5;124m\"\u001b[39m\u001b[38;5;124mlogs/2024-03-28_09-17-40/PPO-SuperMarioBros2-v1-seed441.policy.pkl\u001b[39m\u001b[38;5;124m\"\u001b[39m)\n\u001b[0;32m---> 11\u001b[0m model \u001b[38;5;241m=\u001b[39m \u001b[43mload_model\u001b[49m\u001b[43m(\u001b[49m\u001b[43mmodel_dir\u001b[49m\u001b[43m)\u001b[49m\n\u001b[1;32m     12\u001b[0m env \u001b[38;5;241m=\u001b[39m model\u001b[38;5;241m.\u001b[39mget_env()\n\u001b[1;32m     13\u001b[0m \u001b[38;5;66;03m# env = make_env(\"SuperMarioBros-1-1-v1\", seed=867)\u001b[39;00m\n",
      "File \u001b[0;32m~/study/AML/assessment-1/task-2/training.py:301\u001b[0m, in \u001b[0;36mload_model\u001b[0;34m(policyFileName, learningAlg, environment, seed, learning_rate, gamma, replay_buffer_size)\u001b[0m\n\u001b[1;32m    299\u001b[0m \u001b[38;5;28mprint\u001b[39m(\u001b[38;5;124m\"\u001b[39m\u001b[38;5;124mLoading policy...\u001b[39m\u001b[38;5;124m\"\u001b[39m)\n\u001b[1;32m    300\u001b[0m \u001b[38;5;28;01mwith\u001b[39;00m \u001b[38;5;28mopen\u001b[39m(policyFileName, \u001b[38;5;124m\"\u001b[39m\u001b[38;5;124mrb\u001b[39m\u001b[38;5;124m\"\u001b[39m) \u001b[38;5;28;01mas\u001b[39;00m f:\n\u001b[0;32m--> 301\u001b[0m     policy \u001b[38;5;241m=\u001b[39m \u001b[43mpickle\u001b[49m\u001b[38;5;241;43m.\u001b[39;49m\u001b[43mload\u001b[49m\u001b[43m(\u001b[49m\u001b[43mf\u001b[49m\u001b[43m)\u001b[49m\n\u001b[1;32m    302\u001b[0m model \u001b[38;5;241m=\u001b[39m build_model(\n\u001b[1;32m    303\u001b[0m     learningAlg, environment, seed, learning_rate, gamma, replay_buffer_size\n\u001b[1;32m    304\u001b[0m )\n\u001b[1;32m    305\u001b[0m model\u001b[38;5;241m.\u001b[39mpolicy \u001b[38;5;241m=\u001b[39m policy\n",
      "\u001b[0;31mAttributeError\u001b[0m: Can't get attribute 'MarioNet' on <module '__main__'>"
     ]
    }
   ],
   "source": [
    "from training import load_model, make_env, MarioNet\n",
    "from pathlib import Path\n",
    "import cv2\n",
    "import os\n",
    "\n",
    "steps_per_episode = 0\n",
    "reward_per_episode = 0\n",
    "total_cummulative_reward = 0\n",
    "episode = 1\n",
    "model_dir = Path(\"logs/2024-03-28_09-17-40/PPO-SuperMarioBros2-v1-seed441.policy.pkl\")\n",
    "model = load_model(model_dir)\n",
    "env = model.get_env()\n",
    "# env = make_env(\"SuperMarioBros-1-1-v1\", seed=867)\n",
    "obs = env.reset()\n",
    "policy_rendering = True\n",
    "num_test_episodes = 10\n",
    "\n",
    "log_folder = model_dir.parent\n",
    "\n",
    "step_count = 0\n",
    "while True and policy_rendering:\n",
    "    action, _states = model.predict(obs, deterministic=True)\n",
    "    obs, reward, done, info = env.step(action)\n",
    "    steps_per_episode += 1\n",
    "    reward_per_episode += reward\n",
    "\n",
    "    img = env.render(\"rgb_array\")\n",
    "    img = cv2.cvtColor(img, cv2.COLOR_RGB2BGR)\n",
    "    step_count += 1\n",
    "    image_dir = log_folder / \"policy_rendering\"\n",
    "    os.makedirs(image_dir, exist_ok=True)\n",
    "    cv2.imwrite(str(image_dir / f\"{step_count}.png\"), img)\n",
    "\n",
    "    if any(done):\n",
    "        print(\n",
    "            \"episode=%s, steps_per_episode=%s, reward_per_episode=%s\"\n",
    "            % (episode, steps_per_episode, reward_per_episode)\n",
    "        )\n",
    "        total_cummulative_reward += reward_per_episode\n",
    "        steps_per_episode = 0\n",
    "        reward_per_episode = 0\n",
    "        episode += 1\n",
    "        obs = env.reset()\n",
    "\n",
    "    if episode > num_test_episodes:\n",
    "        print(\n",
    "            \"total_cummulative_reward=%s avg_cummulative_reward=%s\"\n",
    "            % (total_cummulative_reward, total_cummulative_reward / num_test_episodes)\n",
    "        )\n",
    "        break\n",
    "\n",
    "env.close()\n"
   ]
  },
  {
   "cell_type": "code",
   "execution_count": null,
   "metadata": {},
   "outputs": [
    {
     "name": "stdout",
     "output_type": "stream",
     "text": [
      "ffmpeg version 4.4.2-0ubuntu0.22.04.1+esm3 Copyright (c) 2000-2021 the FFmpeg developers\n",
      "  built with gcc 11 (Ubuntu 11.4.0-1ubuntu1~22.04)\n",
      "  configuration: --prefix=/usr --extra-version=0ubuntu0.22.04.1+esm3 --toolchain=hardened --libdir=/usr/lib/x86_64-linux-gnu --incdir=/usr/include/x86_64-linux-gnu --arch=amd64 --enable-gpl --disable-stripping --enable-gnutls --enable-ladspa --enable-libaom --enable-libass --enable-libbluray --enable-libbs2b --enable-libcaca --enable-libcdio --enable-libcodec2 --enable-libdav1d --enable-libflite --enable-libfontconfig --enable-libfreetype --enable-libfribidi --enable-libgme --enable-libgsm --enable-libjack --enable-libmp3lame --enable-libmysofa --enable-libopenjpeg --enable-libopenmpt --enable-libopus --enable-libpulse --enable-librabbitmq --enable-librubberband --enable-libshine --enable-libsnappy --enable-libsoxr --enable-libspeex --enable-libsrt --enable-libssh --enable-libtheora --enable-libtwolame --enable-libvidstab --enable-libvorbis --enable-libvpx --enable-libwebp --enable-libx265 --enable-libxml2 --enable-libxvid --enable-libzimg --enable-libzmq --enable-libzvbi --enable-lv2 --enable-omx --enable-openal --enable-opencl --enable-opengl --enable-sdl2 --enable-pocketsphinx --enable-librsvg --enable-libmfx --enable-libdc1394 --enable-libdrm --enable-libiec61883 --enable-chromaprint --enable-frei0r --enable-libx264 --enable-shared\n",
      "  libavutil      56. 70.100 / 56. 70.100\n",
      "  libavcodec     58.134.100 / 58.134.100\n",
      "  libavformat    58. 76.100 / 58. 76.100\n",
      "  libavdevice    58. 13.100 / 58. 13.100\n",
      "  libavfilter     7.110.100 /  7.110.100\n",
      "  libswscale      5.  9.100 /  5.  9.100\n",
      "  libswresample   3.  9.100 /  3.  9.100\n",
      "  libpostproc    55.  9.100 / 55.  9.100\n",
      "Input #0, image2, from 'logs/2024-03-28_00-58-58/policy_rendering/%d.png':\n",
      "  Duration: 00:05:19.88, start: 0.000000, bitrate: N/A\n",
      "  Stream #0:0: Video: png, rgb24(pc), 256x240, 60 fps, 60 tbr, 60 tbn, 60 tbc\n",
      "Stream mapping:\n",
      "  Stream #0:0 -> #0:0 (png (native) -> h264 (libx264))\n",
      "Press [q] to stop, [?] for help\n",
      "\u001b[1;36m[libx264 @ 0x5c08a5c3ae40] \u001b[0musing cpu capabilities: MMX2 SSE2Fast SSSE3 SSE4.2 AVX FMA3 BMI2 AVX2\n",
      "\u001b[1;36m[libx264 @ 0x5c08a5c3ae40] \u001b[0mprofile High, level 2.1, 4:2:0, 8-bit\n",
      "\u001b[1;36m[libx264 @ 0x5c08a5c3ae40] \u001b[0m264 - core 163 r3060 5db6aa6 - H.264/MPEG-4 AVC codec - Copyleft 2003-2021 - http://www.videolan.org/x264.html - options: cabac=1 ref=5 deblock=1:-3:-3 analyse=0x3:0x113 me=hex subme=8 psy=1 psy_rd=2.00:0.70 mixed_ref=1 me_range=16 chroma_me=1 trellis=2 8x8dct=1 cqm=0 deadzone=21,11 fast_pskip=1 chroma_qp_offset=-4 threads=7 lookahead_threads=1 sliced_threads=0 nr=0 decimate=1 interlaced=0 bluray_compat=0 constrained_intra=0 bframes=3 b_pyramid=2 b_adapt=1 b_bias=0 direct=3 weightb=1 open_gop=0 weightp=2 keyint=250 keyint_min=25 scenecut=40 intra_refresh=0 rc_lookahead=50 rc=crf mbtree=1 crf=24.0 qcomp=0.60 qpmin=0 qpmax=69 qpstep=4 ip_ratio=1.40 aq=1:1.20\n",
      "Output #0, mp4, to 'logs/2024-03-28_00-58-58/output.mp4':\n",
      "  Metadata:\n",
      "    encoder         : Lavf58.76.100\n",
      "  Stream #0:0: Video: h264 (avc1 / 0x31637661), yuv420p(tv, progressive), 256x240, q=2-31, 60 fps, 15360 tbn\n",
      "    Metadata:\n",
      "      encoder         : Lavc58.134.100 libx264\n",
      "    Side data:\n",
      "      cpb: bitrate max/min/avg: 0/0/0 buffer size: 0 vbv_delay: N/A\n",
      "\u001b[1;35m[mp4 @ 0x5c08a5c3a000] \u001b[0mStarting second pass: moving the moov atom to the beginning of the file\n",
      "frame=19193 fps=3086 q=-1.0 Lsize=    2448kB time=00:05:19.83 bitrate=  62.7kbits/s speed=51.4x    \n",
      "video:2229kB audio:0kB subtitle:0kB other streams:0kB global headers:0kB muxing overhead: 9.801146%\n",
      "\u001b[1;36m[libx264 @ 0x5c08a5c3ae40] \u001b[0mframe I:77    Avg QP:18.15  size:  7794\n",
      "\u001b[1;36m[libx264 @ 0x5c08a5c3ae40] \u001b[0mframe P:6466  Avg QP:23.84  size:   149\n",
      "\u001b[1;36m[libx264 @ 0x5c08a5c3ae40] \u001b[0mframe B:12650 Avg QP:16.97  size:    57\n",
      "\u001b[1;36m[libx264 @ 0x5c08a5c3ae40] \u001b[0mconsecutive B-frames:  8.2%  9.7%  6.6% 75.5%\n",
      "\u001b[1;36m[libx264 @ 0x5c08a5c3ae40] \u001b[0mmb I  I16..4: 19.4% 67.5% 13.1%\n",
      "\u001b[1;36m[libx264 @ 0x5c08a5c3ae40] \u001b[0mmb P  I16..4:  0.2%  0.3%  0.1%  P16..4:  2.9%  0.5%  0.2%  0.0%  0.0%    skip:95.8%\n",
      "\u001b[1;36m[libx264 @ 0x5c08a5c3ae40] \u001b[0mmb B  I16..4:  0.1%  0.0%  0.0%  B16..8:  4.4%  0.3%  0.1%  direct: 0.0%  skip:95.1%  L0:61.1% L1:38.1% BI: 0.8%\n",
      "\u001b[1;36m[libx264 @ 0x5c08a5c3ae40] \u001b[0m8x8 transform intra:56.6% inter:17.8%\n",
      "\u001b[1;36m[libx264 @ 0x5c08a5c3ae40] \u001b[0mdirect mvs  spatial:90.8% temporal:9.2%\n",
      "\u001b[1;36m[libx264 @ 0x5c08a5c3ae40] \u001b[0mcoded y,uvDC,uvAC intra: 18.4% 32.4% 31.9% inter: 0.2% 0.5% 0.4%\n",
      "\u001b[1;36m[libx264 @ 0x5c08a5c3ae40] \u001b[0mi16 v,h,dc,p: 61% 22% 18%  0%\n",
      "\u001b[1;36m[libx264 @ 0x5c08a5c3ae40] \u001b[0mi8 v,h,dc,ddl,ddr,vr,hd,vl,hu: 46%  8% 38%  2%  1%  1%  1%  1%  1%\n",
      "\u001b[1;36m[libx264 @ 0x5c08a5c3ae40] \u001b[0mi4 v,h,dc,ddl,ddr,vr,hd,vl,hu: 31% 11% 39%  3%  3%  4%  3%  4%  4%\n",
      "\u001b[1;36m[libx264 @ 0x5c08a5c3ae40] \u001b[0mi8c dc,h,v,p: 72% 14% 12%  2%\n",
      "\u001b[1;36m[libx264 @ 0x5c08a5c3ae40] \u001b[0mWeighted P-Frames: Y:0.0% UV:0.0%\n",
      "\u001b[1;36m[libx264 @ 0x5c08a5c3ae40] \u001b[0mref P L0: 46.8%  1.4% 28.2% 12.7%  8.8%  2.0%\n",
      "\u001b[1;36m[libx264 @ 0x5c08a5c3ae40] \u001b[0mref B L0: 58.9% 26.1% 12.6%  2.5%\n",
      "\u001b[1;36m[libx264 @ 0x5c08a5c3ae40] \u001b[0mref B L1: 96.0%  4.0%\n",
      "\u001b[1;36m[libx264 @ 0x5c08a5c3ae40] \u001b[0mkb/s:57.08\n"
     ]
    },
    {
     "data": {
      "text/html": [
       "<video src=\"logs/2024-03-28_00-58-58/output.mp4\" controls  >\n",
       "      Your browser does not support the <code>video</code> element.\n",
       "    </video>"
      ],
      "text/plain": [
       "<IPython.core.display.Video object>"
      ]
     },
     "execution_count": 18,
     "metadata": {},
     "output_type": "execute_result"
    }
   ],
   "source": [
    "\n",
    "!ffmpeg -framerate 60 -i '{image_dir}/%d.png' -c:v libx264 -preset slow -tune stillimage -crf 24 -vf format=yuv420p -movflags +faststart -y {log_folder}/output.mp4\n",
    "\n",
    "from IPython.display import Video\n",
    "\n",
    "Video(f\"{log_folder}/output.mp4\")"
   ]
  },
  {
   "cell_type": "code",
   "execution_count": null,
   "metadata": {},
   "outputs": [
    {
     "data": {
      "text/plain": [
       "<matplotlib.legend.Legend at 0x7f7026b0e3b0>"
      ]
     },
     "execution_count": 14,
     "metadata": {},
     "output_type": "execute_result"
    },
    {
     "data": {
      "image/png": "[encoded data removed]",
      "text/plain": [
       "<Figure size 640x480 with 1 Axes>"
      ]
     },
     "metadata": {},
     "output_type": "display_data"
    }
   ],
   "source": [
    "import pandas as pd\n",
    "import matplotlib.pyplot as plt\n",
    "from training import load_model\n",
    "from pathlib import Path\n",
    "import cv2\n",
    "\n",
    "model_dir = Path(\"logs/2024-03-28_00-58-58/monitor.csv\")\n",
    "log_folder = model_dir.parent\n",
    "\n",
    "df = pd.read_csv(log_folder / \"monitor.csv\", skiprows=1)\n",
    "df.head()\n",
    "\n",
    "plt.plot(df.t, df.r / max(df.r),  label=\"reward\")\n",
    "plt.plot(df.t, df.l / max(df.l),  label=\"length\")\n",
    "plt.legend()"
   ]
  },
  {
   "cell_type": "code",
   "execution_count": null,
   "metadata": {},
   "outputs": [
    {
     "name": "stdout",
     "output_type": "stream",
     "text": [
      "(240, 256, 3)\n"
     ]
    }
   ],
   "source": [
    "img = cv2.imread(\"logs/2024-03-27_22-30-21/policy_rendering/258.png\")\n",
    "print(img.shape)"
   ]
  }
 ],
 "metadata": {
  "kernelspec": {
   "display_name": "aml_task2",
   "language": "python",
   "name": "aml_task2"
  },
  "language_info": {
   "codemirror_mode": {
    "name": "ipython",
    "version": 3
   },
   "file_extension": ".py",
   "mimetype": "text/x-python",
   "name": "python",
   "nbconvert_exporter": "python",
   "pygments_lexer": "ipython3",
   "version": "3.10.13"
  }
 },
 "nbformat": 4,
 "nbformat_minor": 2
}
