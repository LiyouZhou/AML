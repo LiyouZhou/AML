{
 "cells": [
  {
   "cell_type": "code",
   "execution_count": 5,
   "metadata": {},
   "outputs": [
    {
     "name": "stdout",
     "output_type": "stream",
     "text": [
      "0.001512493993150811\n",
      "0.057762265046662105\n",
      "0.3348458273264841\n"
     ]
    }
   ],
   "source": [
    "import math\n",
    "\n",
    "def sigmoide(x):\n",
    "    return 1 / (1 + math.exp(-x))\n",
    "\n",
    "def loss_function(K, r_theta_w, r_theta_i):\n",
    "    return -(1.0 / 12) * math.log(sigmoide(r_theta_w - r_theta_i))\n",
    "\n",
    "print(loss_function(4, 5, 1))\n",
    "print(loss_function(4, 3, 3))\n",
    "print(loss_function(4, 1, 5))\n"
   ]
  }
 ],
 "metadata": {
  "kernelspec": {
   "display_name": "Python 3",
   "language": "python",
   "name": "python3"
  },
  "language_info": {
   "codemirror_mode": {
    "name": "ipython",
    "version": 3
   },
   "file_extension": ".py",
   "mimetype": "text/x-python",
   "name": "python",
   "nbconvert_exporter": "python",
   "pygments_lexer": "ipython3",
   "version": "3.10.12"
  }
 },
 "nbformat": 4,
 "nbformat_minor": 2
}
